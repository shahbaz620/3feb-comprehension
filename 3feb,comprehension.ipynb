{
 "cells": [
  {
   "cell_type": "code",
   "execution_count": 2,
   "id": "e51d3905-8cc5-45ac-82b9-4aeed8ecb2d1",
   "metadata": {},
   "outputs": [],
   "source": [
    "l=[ 1,2,3,4,45,5]\n",
    "l1=[]\n",
    "for i in l :\n",
    "    l1.append(i**2)"
   ]
  },
  {
   "cell_type": "code",
   "execution_count": 3,
   "id": "21f60eb2-5327-4709-a097-b9bf6e1cdef6",
   "metadata": {},
   "outputs": [
    {
     "data": {
      "text/plain": [
       "[1, 4, 9, 16, 2025, 25]"
      ]
     },
     "execution_count": 3,
     "metadata": {},
     "output_type": "execute_result"
    }
   ],
   "source": [
    "l1"
   ]
  },
  {
   "cell_type": "code",
   "execution_count": 4,
   "id": "11cfd55f-5e0b-4659-9f98-bbe379b7bbfd",
   "metadata": {},
   "outputs": [
    {
     "data": {
      "text/plain": [
       "[1, 2, 3, 4, 45, 5]"
      ]
     },
     "execution_count": 4,
     "metadata": {},
     "output_type": "execute_result"
    }
   ],
   "source": [
    "l"
   ]
  },
  {
   "cell_type": "code",
   "execution_count": 6,
   "id": "efa7af85-d407-4290-affa-3aeffa80999e",
   "metadata": {},
   "outputs": [
    {
     "data": {
      "text/plain": [
       "[1, 4, 9, 16, 2025, 25]"
      ]
     },
     "execution_count": 6,
     "metadata": {},
     "output_type": "execute_result"
    }
   ],
   "source": [
    "[ i**2 for i in l ]"
   ]
  },
  {
   "cell_type": "code",
   "execution_count": 7,
   "id": "a2c3f15f-b389-49af-a517-5788784bf83c",
   "metadata": {},
   "outputs": [
    {
     "data": {
      "text/plain": [
       "[2, 4]"
      ]
     },
     "execution_count": 7,
     "metadata": {},
     "output_type": "execute_result"
    }
   ],
   "source": [
    "[i for i in l if i % 2 ==0]"
   ]
  },
  {
   "cell_type": "code",
   "execution_count": 8,
   "id": "834ad9d1-ad61-4468-8768-2c0110ca8473",
   "metadata": {},
   "outputs": [],
   "source": [
    "l1 = [ \"sudh\", \"pwskills\",\"kumar\",\"data science master\"]"
   ]
  },
  {
   "cell_type": "code",
   "execution_count": 9,
   "id": "47e20f5e-009a-4e33-b5e7-41b58701d9db",
   "metadata": {},
   "outputs": [
    {
     "data": {
      "text/plain": [
       "['SUDH', 'PWSKILLS', 'KUMAR', 'DATA SCIENCE MASTER']"
      ]
     },
     "execution_count": 9,
     "metadata": {},
     "output_type": "execute_result"
    }
   ],
   "source": [
    "[i.upper() for i in l1]"
   ]
  },
  {
   "cell_type": "code",
   "execution_count": 10,
   "id": "ed65d238-1a78-4257-b2c8-a35e9fc8c814",
   "metadata": {},
   "outputs": [
    {
     "data": {
      "text/plain": [
       "[1, 2, 3, 4, 45, 5]"
      ]
     },
     "execution_count": 10,
     "metadata": {},
     "output_type": "execute_result"
    }
   ],
   "source": [
    "l"
   ]
  },
  {
   "cell_type": "code",
   "execution_count": 12,
   "id": "e29d20ac-3a21-4cfe-890d-3d3b83f0e3f4",
   "metadata": {},
   "outputs": [
    {
     "data": {
      "text/plain": [
       "[1, 4, 9, 16, 2025, 25]"
      ]
     },
     "execution_count": 12,
     "metadata": {},
     "output_type": "execute_result"
    }
   ],
   "source": [
    "list ( i**2 for i in l )"
   ]
  },
  {
   "cell_type": "code",
   "execution_count": 13,
   "id": "0879b810-063f-454c-aa17-2204fe1b317b",
   "metadata": {},
   "outputs": [],
   "source": [
    "d ={\"key1\":1,\"key2\":2,\"key3\":3,\"key4\":4}"
   ]
  },
  {
   "cell_type": "code",
   "execution_count": 17,
   "id": "014bd899-78ca-47a7-9df6-ddf41170733d",
   "metadata": {},
   "outputs": [
    {
     "data": {
      "text/plain": [
       "{'key1': 1, 'key2': 4, 'key3': 9, 'key4': 16}"
      ]
     },
     "execution_count": 17,
     "metadata": {},
     "output_type": "execute_result"
    }
   ],
   "source": [
    "{k:v**2 for k , v in d.items()}"
   ]
  },
  {
   "cell_type": "code",
   "execution_count": 16,
   "id": "cd15b6cc-880b-4b6c-8177-f65f799b09b9",
   "metadata": {},
   "outputs": [
    {
     "data": {
      "text/plain": [
       "dict_items([('key1', 1), ('key2', 2), ('key3', 3), ('key4', 4)])"
      ]
     },
     "execution_count": 16,
     "metadata": {},
     "output_type": "execute_result"
    }
   ],
   "source": [
    "d.items()"
   ]
  },
  {
   "cell_type": "code",
   "execution_count": 18,
   "id": "70c986ed-ea47-47b8-a56b-3e010a91f529",
   "metadata": {},
   "outputs": [
    {
     "data": {
      "text/plain": [
       "{'key1': 1, 'key2': 2, 'key3': 3, 'key4': 4}"
      ]
     },
     "execution_count": 18,
     "metadata": {},
     "output_type": "execute_result"
    }
   ],
   "source": [
    "d"
   ]
  },
  {
   "cell_type": "code",
   "execution_count": null,
   "id": "f488ded2-6324-43eb-ab5e-fb618f7790bc",
   "metadata": {},
   "outputs": [],
   "source": [
    "{for k, v in d.items()}"
   ]
  }
 ],
 "metadata": {
  "kernelspec": {
   "display_name": "Python 3 (ipykernel)",
   "language": "python",
   "name": "python3"
  },
  "language_info": {
   "codemirror_mode": {
    "name": "ipython",
    "version": 3
   },
   "file_extension": ".py",
   "mimetype": "text/x-python",
   "name": "python",
   "nbconvert_exporter": "python",
   "pygments_lexer": "ipython3",
   "version": "3.10.8"
  }
 },
 "nbformat": 4,
 "nbformat_minor": 5
}
